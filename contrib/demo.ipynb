{
 "cells": [
  {
   "cell_type": "code",
   "execution_count": 1,
   "metadata": {},
   "outputs": [
    {
     "name": "stderr",
     "output_type": "stream",
     "text": [
      "┌ Warning: REPL initialization for Singular mode failed\n",
      "└ @ SingularInterpreter /home/schultz/git/SingularInterpreter/src/SingularInterpreter.jl:48\n"
     ]
    }
   ],
   "source": [
    "using SingularInterpreter"
   ]
  },
  {
   "cell_type": "code",
   "execution_count": 2,
   "metadata": {},
   "outputs": [
    {
     "name": "stdout",
     "output_type": "stream",
     "text": [
      "polynomial ring, over a field, global ordering\n",
      "// coefficients: QQ(a, b)\n",
      "// number of vars : 9\n",
      "//        block   1 : ordering lp\n",
      "//                  : names    x(1)(1) x(1)(2) x(1)(3) x(2)(1) x(2)(2) x(2)(3) x(3)(1) x(3)(2) x(3)(3)\n",
      "//        block   2 : ordering C\n"
     ]
    },
    {
     "data": {
      "text/latex": [
       "\\begin{equation}\n",
       "\\begin{array}{l}\n",
       "\\text{ring }r\\end{array}\n",
       "\\end{equation}\n"
      ],
      "text/plain": [
       "SingularInterpreter.PrintReaper(true, [\"\\\\text{ring }r\"])"
      ]
     },
     "execution_count": 2,
     "metadata": {},
     "output_type": "execute_result"
    }
   ],
   "source": [
    "execute(\"\"\" ring r = (0,a,b), x(1..3)(1..3), lp; r; \"\"\")"
   ]
  },
  {
   "cell_type": "code",
   "execution_count": 3,
   "metadata": {},
   "outputs": [
    {
     "name": "stdout",
     "output_type": "stream",
     "text": [
      "(a^2+2*a+1)*x(1)(2)^2+(2*a*b+2*a+2*b+2)*x(1)(2)*x(2)(3)+(b^2+2*b+1)*x(2)(3)^2\n"
     ]
    },
    {
     "data": {
      "text/latex": [
       "\\begin{equation}\n",
       "\\begin{array}{l}\n",
       "(a^2+2a+1)x_{1,2}^2+(2ab+2a+2b+2)x_{1,2}x_{2,3}+(b^2+2b+1)x_{2,3}^2\\end{array}\n",
       "\\end{equation}\n"
      ],
      "text/plain": [
       "SingularInterpreter.PrintReaper(true, [\"(a^2+2a+1)x_{1,2}^2+(2ab+2a+2b+2)x_{1,2}x_{2,3}+(b^2+2b+1)x_{2,3}^2\"])"
      ]
     },
     "execution_count": 3,
     "metadata": {},
     "output_type": "execute_result"
    }
   ],
   "source": [
    "execute(\"\"\" ((1+a)*x(1)(2) + (1+b)*x(2)(3))^2 \"\"\")"
   ]
  },
  {
   "cell_type": "code",
   "execution_count": 4,
   "metadata": {},
   "outputs": [
    {
     "name": "stderr",
     "output_type": "stream",
     "text": [
      "┌ Warning: redeclaration of ring r\n",
      "└ @ SingularInterpreter /home/schultz/git/SingularInterpreter/src/runtime_cmds.jl:405\n"
     ]
    },
    {
     "name": "stdout",
     "output_type": "stream",
     "text": [
      "m[1, 1]: x^2+y^2\n",
      " [1, 2]: x*y\n",
      " [1, 3]: -z^2+1\n",
      " [2, 1]: 2*x*y*z\n",
      " [2, 2]: 0\n",
      " [2, 3]: -2\n"
     ]
    },
    {
     "data": {
      "text/latex": [
       "\\begin{equation}\n",
       "\\begin{array}{l}\n",
       "\\left( \\begin{array}{ccc}\n",
       "x^2+y^2 & xy & -z^2+1 \\\\\n",
       "2xyz & 0 & -2\n",
       "\\end{array} \\right)\\end{array}\n",
       "\\end{equation}\n"
      ],
      "text/plain": [
       "SingularInterpreter.PrintReaper(true, [\"\\\\left( \\\\begin{array}{ccc}\\nx^2+y^2 & xy & -z^2+1 \\\\\\\\\\n2xyz & 0 & -2\\n\\\\end{array} \\\\right)\"])"
      ]
     },
     "execution_count": 4,
     "metadata": {},
     "output_type": "execute_result"
    }
   ],
   "source": [
    "execute(\"\"\" ring r;\n",
    "            matrix m[2][3] = x^2+y^2, x*y, 1-z^2, 2*z*x*y, 0, -2;\n",
    "            m; \"\"\")"
   ]
  },
  {
   "cell_type": "code",
   "execution_count": 5,
   "metadata": {},
   "outputs": [],
   "source": [
    "execute(\"\"\" LIB \"standard.lib\" \"\"\")"
   ]
  },
  {
   "cell_type": "code",
   "execution_count": 6,
   "metadata": {},
   "outputs": [
    {
     "name": "stdout",
     "output_type": "stream",
     "text": [
      "ideal[1]: x(1)^3*x(2)^2\n",
      "     [2]: x(1)^3*x(3)\n",
      "     [3]: x(2)^2*x(3)\n",
      "     [4]: x(3)^2\n"
     ]
    },
    {
     "data": {
      "text/latex": [
       "\\begin{equation}\n",
       "\\begin{array}{l}\n",
       "\\left\\langle x_{1}^3x_{2}^2,x_{1}^3x_{3},x_{2}^2x_{3},x_{3}^2 \\right\\rangle\\end{array}\n",
       "\\end{equation}\n"
      ],
      "text/plain": [
       "SingularInterpreter.PrintReaper(true, [\"\\\\left\\\\langle x_{1}^3x_{2}^2,x_{1}^3x_{3},x_{2}^2x_{3},x_{3}^2 \\\\right\\\\rangle\"])"
      ]
     },
     "execution_count": 6,
     "metadata": {},
     "output_type": "execute_result"
    }
   ],
   "source": [
    "execute(\"\"\" kill r; ring r = 0, x(1..3), dp;\n",
    "            ideal i = x(1)^6, x(2)^4, x(1)*x(2)*x(3);\n",
    "            weightKB(i, 12, intvec(2, 3, 6)) \"\"\")"
   ]
  },
  {
   "cell_type": "markdown",
   "metadata": {},
   "source": [
    "This first order deformation calculation runs about 8 times faster."
   ]
  },
  {
   "cell_type": "code",
   "execution_count": 7,
   "metadata": {},
   "outputs": [],
   "source": [
    "execute(read(\"/home/schultz/git/SingularInterpreter/contrib/StanleyReisner.sing\", String))"
   ]
  },
  {
   "cell_type": "code",
   "execution_count": 8,
   "metadata": {},
   "outputs": [
    {
     "name": "stdout",
     "output_type": "stream",
     "text": [
      "111\n"
     ]
    },
    {
     "data": {
      "text/latex": [
       "\\begin{equation}\n",
       "\\begin{array}{l}\n",
       "111\\end{array}\n",
       "\\end{equation}\n"
      ],
      "text/plain": [
       "SingularInterpreter.PrintReaper(true, [\"111\"])"
      ]
     },
     "execution_count": 8,
     "metadata": {},
     "output_type": "execute_result"
    }
   ],
   "source": [
    "execute(\"\"\" ring R=0,(x(1),x(2),x(3),x(4),x(5),x(6),x(7),x(8),x(9)),lp;\n",
    "            ideal i=x(1),x(2),x(3),x(4),x(5),x(1)*x(2),x(1)*x(3),x(1)*x(4),x(1)*x(5),x(2)*x(5),x(3)*x(4),x(3)*x(5),x(1)*x(3)*x(5),x(2)*x(4),x(1)*x(2)*x(4),x(1)*x(3)*x(4),x(1)*x(2)*x(5),1,x(1)*x(4)*x(6),x(1)*x(5)*x(6),x(1)*x(6),x(2)*x(4)*x(6),x(2)*x(5)*x(6),x(2)*x(6),x(3)*x(4)*x(6),x(3)*x(5)*x(6),x(3)*x(6),x(1)*x(2)*x(4)*x(6),x(1)*x(2)*x(5)*x(6),x(1)*x(2)*x(6),x(1)*x(3)*x(4)*x(6),x(1)*x(3)*x(5)*x(6),x(1)*x(3)*x(6),x(4)*x(6),x(5)*x(6),x(6),x(2)*x(7),x(3)*x(7),x(4)*x(7),x(6)*x(7),x(2)*x(4)*x(7),x(2)*x(6)*x(7),x(3)*x(4)*x(7),x(3)*x(6)*x(7),x(4)*x(6)*x(7),x(2)*x(4)*x(6)*x(7),x(3)*x(4)*x(6)*x(7),x(7),x(1)*x(2)*x(8),x(1)*x(3)*x(8),x(1)*x(8),x(2)*x(4)*x(8),x(3)*x(4)*x(8),x(4)*x(8),x(2)*x(5)*x(8),x(5)*x(8),x(1)*x(2)*x(4)*x(8),x(1)*x(3)*x(4)*x(8),x(1)*x(4)*x(8),x(1)*x(2)*x(5)*x(8),x(1)*x(5)*x(8),x(2)*x(8),x(3)*x(8),x(8),x(2)*x(5)*x(6)*x(8),x(5)*x(6)*x(8),x(2)*x(6)*x(8),x(3)*x(6)*x(8),x(6)*x(8),x(2)*x(4)*x(7)*x(8),x(3)*x(4)*x(7)*x(8),x(4)*x(7)*x(8),x(2)*x(6)*x(7)*x(8),x(3)*x(6)*x(7)*x(8),x(6)*x(7)*x(8),x(2)*x(7)*x(8),x(3)*x(7)*x(8),x(7)*x(8),x(1)*x(3)*x(9),x(1)*x(5)*x(9),x(1)*x(8)*x(9),x(1)*x(3)*x(5)*x(9),x(1)*x(3)*x(8)*x(9),x(1)*x(5)*x(8)*x(9),x(1)*x(9),x(3)*x(9),x(5)*x(9),x(8)*x(9),x(3)*x(5)*x(9),x(3)*x(8)*x(9),x(5)*x(8)*x(9),x(9),x(3)*x(6)*x(9),x(5)*x(6)*x(9),x(6)*x(8)*x(9),x(3)*x(5)*x(6)*x(9),x(3)*x(6)*x(8)*x(9),x(5)*x(6)*x(8)*x(9),x(6)*x(9);\n",
    "            int t = rtimer;\n",
    "            list l = SingTest_1(i);\n",
    "            rtimer - t; \"\"\")"
   ]
  },
  {
   "cell_type": "code",
   "execution_count": 10,
   "metadata": {},
   "outputs": [
    {
     "name": "stdout",
     "output_type": "stream",
     "text": [
      "FirstOrderDeformation.source: ideal[1]: x(1)\n",
      "                                   [2]: x(2)\n",
      "                                   [3]: x(3)\n",
      "                                   [4]: x(4)\n",
      "                                   [5]: x(5)\n",
      "                                   [6]: x(1)*x(2)\n",
      "                                   [7]: x(1)*x(3)\n",
      "                                   [8]: x(1)*x(4)\n",
      "                                   [9]: x(1)*x(5)\n",
      "                                   [10]: x(2)*x(5)\n",
      "                                   [11]: x(3)*x(4)\n",
      "                                   [12]: x(3)*x(5)\n",
      "                                   [13]: x(1)*x(3)*x(5)\n",
      "                                   [14]: x(2)*x(4)\n",
      "                                   [15]: x(1)*x(2)*x(4)\n",
      "                                   [16]: x(1)*x(3)*x(4)\n",
      "                                   [17]: x(1)*x(2)*x(5)\n",
      "                                   [18]: 1\n",
      "                                   [19]: x(1)*x(4)*x(6)\n",
      "                                   [20]: x(1)*x(5)*x(6)\n",
      "                                   [21]: x(1)*x(6)\n",
      "                                   [22]: x(2)*x(4)*x(6)\n",
      "                                   [23]: x(2)*x(5)*x(6)\n",
      "                                   [24]: x(2)*x(6)\n",
      "                                   [25]: x(3)*x(4)*x(6)\n",
      "                                   [26]: x(3)*x(5)*x(6)\n",
      "                                   [27]: x(3)*x(6)\n",
      "                                   [28]: x(1)*x(2)*x(4)*x(6)\n",
      "                                   [29]: x(1)*x(2)*x(5)*x(6)\n",
      "                                   [30]: x(1)*x(2)*x(6)\n",
      "                                   [31]: x(1)*x(3)*x(4)*x(6)\n",
      "                                   [32]: x(1)*x(3)*x(5)*x(6)\n",
      "                                   [33]: x(1)*x(3)*x(6)\n",
      "                                   [34]: x(4)*x(6)\n",
      "                                   [35]: x(5)*x(6)\n",
      "                                   [36]: x(6)\n",
      "                                   [37]: x(2)*x(7)\n",
      "                                   [38]: x(3)*x(7)\n",
      "                                   [39]: x(4)*x(7)\n",
      "                                   [40]: x(6)*x(7)\n",
      "                                   [41]: x(2)*x(4)*x(7)\n",
      "                                   [42]: x(2)*x(6)*x(7)\n",
      "                                   [43]: x(3)*x(4)*x(7)\n",
      "                                   [44]: x(3)*x(6)*x(7)\n",
      "                                   [45]: x(4)*x(6)*x(7)\n",
      "                                   [46]: x(2)*x(4)*x(6)*x(7)\n",
      "                                   [47]: x(3)*x(4)*x(6)*x(7)\n",
      "                                   [48]: x(7)\n",
      "                                   [49]: x(1)*x(2)*x(8)\n",
      "                                   [50]: x(1)*x(3)*x(8)\n",
      "                                   [51]: x(1)*x(8)\n",
      "                                   [52]: x(2)*x(4)*x(8)\n",
      "                                   [53]: x(3)*x(4)*x(8)\n",
      "                                   [54]: x(4)*x(8)\n",
      "                                   [55]: x(2)*x(5)*x(8)\n",
      "                                   [56]: x(5)*x(8)\n",
      "                                   [57]: x(1)*x(2)*x(4)*x(8)\n",
      "                                   [58]: x(1)*x(3)*x(4)*x(8)\n",
      "                                   [59]: x(1)*x(4)*x(8)\n",
      "                                   [60]: x(1)*x(2)*x(5)*x(8)\n",
      "                                   [61]: x(1)*x(5)*x(8)\n",
      "                                   [62]: x(2)*x(8)\n",
      "                                   [63]: x(3)*x(8)\n",
      "                                   [64]: x(8)\n",
      "                                   [65]: x(2)*x(5)*x(6)*x(8)\n",
      "                                   [66]: x(5)*x(6)*x(8)\n",
      "                                   [67]: x(2)*x(6)*x(8)\n",
      "                                   [68]: x(3)*x(6)*x(8)\n",
      "                                   [69]: x(6)*x(8)\n",
      "                                   [70]: x(2)*x(4)*x(7)*x(8)\n",
      "                                   [71]: x(3)*x(4)*x(7)*x(8)\n",
      "                                   [72]: x(4)*x(7)*x(8)\n",
      "                                   [73]: x(2)*x(6)*x(7)*x(8)\n",
      "                                   [74]: x(3)*x(6)*x(7)*x(8)\n",
      "                                   [75]: x(6)*x(7)*x(8)\n",
      "                                   [76]: x(2)*x(7)*x(8)\n",
      "                                   [77]: x(3)*x(7)*x(8)\n",
      "                                   [78]: x(7)*x(8)\n",
      "                                   [79]: x(1)*x(3)*x(9)\n",
      "                                   [80]: x(1)*x(5)*x(9)\n",
      "                                   [81]: x(1)*x(8)*x(9)\n",
      "                                   [82]: x(1)*x(3)*x(5)*x(9)\n",
      "                                   [83]: x(1)*x(3)*x(8)*x(9)\n",
      "                                   [84]: x(1)*x(5)*x(8)*x(9)\n",
      "                                   [85]: x(1)*x(9)\n",
      "                                   [86]: x(3)*x(9)\n",
      "                                   [87]: x(5)*x(9)\n",
      "                                   [88]: x(8)*x(9)\n",
      "                                   [89]: x(3)*x(5)*x(9)\n",
      "                                   [90]: x(3)*x(8)*x(9)\n",
      "                                   [91]: x(5)*x(8)*x(9)\n",
      "                                   [92]: x(9)\n",
      "                                   [93]: x(3)*x(6)*x(9)\n",
      "                                   [94]: x(5)*x(6)*x(9)\n",
      "                                   [95]: x(6)*x(8)*x(9)\n",
      "                                   [96]: x(3)*x(5)*x(6)*x(9)\n",
      "                                   [97]: x(3)*x(6)*x(8)*x(9)\n",
      "                                   [98]: x(5)*x(6)*x(8)*x(9)\n",
      "                                   [99]: x(6)*x(9)\n",
      "                     .a: x(4)^2*x(8)\n",
      "                     .b: x(1)*x(2)*x(7)\n",
      "                     .M: ideal[1]: x(2)*x(3)\n",
      "                              [2]: x(1)*x(2)*x(3)\n",
      "                              [3]: x(2)*x(3)*x(4)\n",
      "                              [4]: x(1)*x(2)*x(3)*x(4)\n",
      "                              [5]: x(1)*x(7)\n",
      "                              [6]: x(1)*x(2)*x(7)\n",
      "                              [7]: x(1)*x(3)*x(7)\n",
      "                              [8]: x(2)*x(3)*x(7)\n",
      "                              [9]: x(1)*x(2)*x(3)*x(7)\n",
      "                              [10]: x(1)*x(4)*x(7)\n",
      "                              [11]: x(1)*x(2)*x(4)*x(7)\n",
      "                              [12]: x(1)*x(3)*x(4)*x(7)\n",
      "                              [13]: x(2)*x(3)*x(4)*x(7)\n",
      "                              [14]: x(1)*x(2)*x(3)*x(4)*x(7)\n",
      "                              [15]: x(2)*x(3)*x(8)\n",
      "                              [16]: x(1)*x(2)*x(3)*x(8)\n",
      "                              [17]: x(2)*x(3)*x(4)*x(8)\n",
      "                              [18]: x(1)*x(2)*x(3)*x(4)*x(8)\n",
      "                              [19]: x(1)*x(7)*x(8)\n",
      "                              [20]: x(1)*x(2)*x(7)*x(8)\n",
      "                              [21]: x(1)*x(3)*x(7)*x(8)\n",
      "                              [22]: x(2)*x(3)*x(7)*x(8)\n",
      "                              [23]: x(1)*x(2)*x(3)*x(7)*x(8)\n",
      "                              [24]: x(1)*x(4)*x(7)*x(8)\n",
      "                              [25]: x(1)*x(2)*x(4)*x(7)*x(8)\n",
      "                              [26]: x(1)*x(3)*x(4)*x(7)*x(8)\n",
      "                              [27]: x(2)*x(3)*x(4)*x(7)*x(8)\n",
      "                              [28]: x(1)*x(2)*x(3)*x(4)*x(7)*x(8)\n",
      "                     .gens: ideal[1]: x(2)*x(3)\n",
      "                                 [2]: x(1)*x(7)\n",
      "                     .over: polynomial ring, over a field, global ordering\n",
      "                            // coefficients: QQ\n",
      "                            // number of vars : 9\n",
      "                            //        block   1 : ordering lp\n",
      "                            //                  : names    x(1) x(2) x(3) x(4) x(5) x(6) x(7) x(8) x(9)\n",
      "                            //        block   2 : ordering C\n",
      "                     .dgs: empty list\n",
      "                     .rule: empty list\n",
      "                     .target: polynomial ring, over a field, global ordering\n",
      "                              // coefficients: QQ\n",
      "                              // number of vars : 9\n",
      "                              //        block   1 : ordering lp\n",
      "                              //                  : names    x(1) x(2) x(3) x(4) x(5) x(6) x(7) x(8) x(9)\n",
      "                              //        block   2 : ordering C\n",
      "                              // quotient ring from ideal\n",
      "                              _[1]=1\n"
     ]
    },
    {
     "data": {
      "text/latex": [
       "\\begin{equation}\n",
       "\\begin{array}{l}\n",
       "\\begin{array}{l}\n",
       "\\text{FirstOrderDeformation} \\\\\n",
       "\\left[ \\begin{array}{ll}\n",
       "\\text{source: } & \\left\\langle x_{1},x_{2},x_{3},x_{4},x_{5},x_{1}x_{2},x_{1}x_{3},x_{1}x_{4},x_{1}x_{5},x_{2}x_{5},x_{3}x_{4},x_{3}x_{5},x_{1}x_{3}x_{5},x_{2}x_{4},x_{1}x_{2}x_{4},x_{1}x_{3}x_{4},x_{1}x_{2}x_{5},1,x_{1}x_{4}x_{6},x_{1}x_{5}x_{6},x_{1}x_{6},x_{2}x_{4}x_{6},x_{2}x_{5}x_{6},x_{2}x_{6},x_{3}x_{4}x_{6},x_{3}x_{5}x_{6},x_{3}x_{6},x_{1}x_{2}x_{4}x_{6},x_{1}x_{2}x_{5}x_{6},x_{1}x_{2}x_{6},x_{1}x_{3}x_{4}x_{6},x_{1}x_{3}x_{5}x_{6},x_{1}x_{3}x_{6},x_{4}x_{6},x_{5}x_{6},x_{6},x_{2}x_{7},x_{3}x_{7},x_{4}x_{7},x_{6}x_{7},x_{2}x_{4}x_{7},x_{2}x_{6}x_{7},x_{3}x_{4}x_{7},x_{3}x_{6}x_{7},x_{4}x_{6}x_{7},x_{2}x_{4}x_{6}x_{7},x_{3}x_{4}x_{6}x_{7},x_{7},x_{1}x_{2}x_{8},x_{1}x_{3}x_{8},x_{1}x_{8},x_{2}x_{4}x_{8},x_{3}x_{4}x_{8},x_{4}x_{8},x_{2}x_{5}x_{8},x_{5}x_{8},x_{1}x_{2}x_{4}x_{8},x_{1}x_{3}x_{4}x_{8},x_{1}x_{4}x_{8},x_{1}x_{2}x_{5}x_{8},x_{1}x_{5}x_{8},x_{2}x_{8},x_{3}x_{8},x_{8},x_{2}x_{5}x_{6}x_{8},x_{5}x_{6}x_{8},x_{2}x_{6}x_{8},x_{3}x_{6}x_{8},x_{6}x_{8},x_{2}x_{4}x_{7}x_{8},x_{3}x_{4}x_{7}x_{8},x_{4}x_{7}x_{8},x_{2}x_{6}x_{7}x_{8},x_{3}x_{6}x_{7}x_{8},x_{6}x_{7}x_{8},x_{2}x_{7}x_{8},x_{3}x_{7}x_{8},x_{7}x_{8},x_{1}x_{3}x_{9},x_{1}x_{5}x_{9},x_{1}x_{8}x_{9},x_{1}x_{3}x_{5}x_{9},x_{1}x_{3}x_{8}x_{9},x_{1}x_{5}x_{8}x_{9},x_{1}x_{9},x_{3}x_{9},x_{5}x_{9},x_{8}x_{9},x_{3}x_{5}x_{9},x_{3}x_{8}x_{9},x_{5}x_{8}x_{9},x_{9},x_{3}x_{6}x_{9},x_{5}x_{6}x_{9},x_{6}x_{8}x_{9},x_{3}x_{5}x_{6}x_{9},x_{3}x_{6}x_{8}x_{9},x_{5}x_{6}x_{8}x_{9},x_{6}x_{9} \\right\\rangle \\\\\n",
       "\\text{a: } & x_{4}^2x_{8} \\\\\n",
       "\\text{b: } & x_{1}x_{2}x_{7} \\\\\n",
       "\\text{M: } & \\left\\langle x_{2}x_{3},x_{1}x_{2}x_{3},x_{2}x_{3}x_{4},x_{1}x_{2}x_{3}x_{4},x_{1}x_{7},x_{1}x_{2}x_{7},x_{1}x_{3}x_{7},x_{2}x_{3}x_{7},x_{1}x_{2}x_{3}x_{7},x_{1}x_{4}x_{7},x_{1}x_{2}x_{4}x_{7},x_{1}x_{3}x_{4}x_{7},x_{2}x_{3}x_{4}x_{7},x_{1}x_{2}x_{3}x_{4}x_{7},x_{2}x_{3}x_{8},x_{1}x_{2}x_{3}x_{8},x_{2}x_{3}x_{4}x_{8},x_{1}x_{2}x_{3}x_{4}x_{8},x_{1}x_{7}x_{8},x_{1}x_{2}x_{7}x_{8},x_{1}x_{3}x_{7}x_{8},x_{2}x_{3}x_{7}x_{8},x_{1}x_{2}x_{3}x_{7}x_{8},x_{1}x_{4}x_{7}x_{8},x_{1}x_{2}x_{4}x_{7}x_{8},x_{1}x_{3}x_{4}x_{7}x_{8},x_{2}x_{3}x_{4}x_{7}x_{8},x_{1}x_{2}x_{3}x_{4}x_{7}x_{8} \\right\\rangle \\\\\n",
       "\\text{gens: } & \\left\\langle x_{2}x_{3},x_{1}x_{7} \\right\\rangle \\\\\n",
       "\\text{over: } & \\text{ring }R \\\\\n",
       "\\text{dgs: } & \\text{empty list} \\\\\n",
       "\\text{rule: } & \\text{empty list} \\\\\n",
       "\\text{target: } & \\text{some ring}\n",
       "\\end{array} \\right.\\end{array}\n",
       "\\end{array}\n",
       "\\end{equation}\n"
      ],
      "text/plain": [
       "SingularInterpreter.PrintReaper(true, [\"\\\\begin{array}{l}\\n\\\\text{FirstOrderDeformation} \\\\\\\\\\n\\\\left[ \\\\begin{array}{ll}\\n\\\\text{source: } & \\\\left\\\\langle x_{1},x_{2},x_{3},x_{4},x_{5},x_{1}x_{2},x_{1}x_{3},x_{1}x_{4},x_{1}x_{5},x_{2}x_{5},x_{3}x_{4},x_{3}x_{5},x_{1}x_{3}x_{5},x_{2}x_{4},x_{1}x_{2}x_{4},x_{1}x_{3}x_{4},x_{1}x_{2}x_{5},1,x_{1}x_{4}x_{6},x_{1}x_{5}x_{6},x_{1}x_{6},x_{2}x_{4}x_{6},x_{2}x_{5}x_{6},x_{2}x_{6},x_{3}x_{4}x_{6},x_{3}x_{5}x_{6},x_{3}x_{6},x_{1}x_{2}x_{4}x_{6},x_{1}x_{2}x_{5}x_{6},x_{1}x_{2}x_{6},x_{1}x_{3}x_{4}x_{6},x_{1}x_{3}x_{5}x_{6},x_{1}x_{3}x_{6},x_{4}x_{6},x_{5}x_{6},x_{6},x_{2}x_{7},x_{3}x_{7},x_{4}x_{7},x_{6}x_{7},x_{2}x_{4}x_{7},x_{2}x_{6}x_{7},x_{3}x_{4}x_{7},x_{3}x_{6}x_{7},x_{4}x_{6}x_{7},x_{2}x_{4}x_{6}x_{7},x_{3}x_{4}x_{6}x_{7},x_{7},x_{1}x_{2}x_{8},x_{1}x_{3}x_{8},x_{1}x_{8},x_{2}x_{4}x_{8},x_{3}x_{4}x_{8},x_{4}x_{8},x_{2}x_{5}x_{8},x_{5}x_{8},x_{1}x_{2}x_{4}x_{8},x_{1}x_{3}x_{4}x_{8},x_{1}x_{4}x_{8},x_{1}x_{2}x_{5}x_{8},x_{1}x_{5}x_{8},x_{2}x_{8},x_{3}x_{8},x_{8},x_{2}x_{5}x_{6}x_{8},x_{5}x_{6}x_{8},x_{2}x_{6}x_{8},x_{3}x_{6}x_{8},x_{6}x_{8},x_{2}x_{4}x_{7}x_{8},x_{3}x_{4}x_{7}x_{8},x_{4}x_{7}x_{8},x_{2}x_{6}x_{7}x_{8},x_{3}x_{6}x_{7}x_{8},x_{6}x_{7}x_{8},x_{2}x_{7}x_{8},x_{3}x_{7}x_{8},x_{7}x_{8},x_{1}x_{3}x_{9},x_{1}x_{5}x_{9},x_{1}x_{8}x_{9},x_{1}x_{3}x_{5}x_{9},x_{1}x_{3}x_{8}x_{9},x_{1}x_{5}x_{8}x_{9},x_{1}x_{9},x_{3}x_{9},x_{5}x_{9},x_{8}x_{9},x_{3}x_{5}x_{9},x_{3}x_{8}x_{9},x_{5}x_{8}x_{9},x_{9},x_{3}x_{6}x_{9},x_{5}x_{6}x_{9},x_{6}x_{8}x_{9},x_{3}x_{5}x_{6}x_{9},x_{3}x_{6}x_{8}x_{9},x_{5}x_{6}x_{8}x_{9},x_{6}x_{9} \\\\right\\\\rangle \\\\\\\\\\n\\\\text{a: } & x_{4}^2x_{8} \\\\\\\\\\n\\\\text{b: } & x_{1}x_{2}x_{7} \\\\\\\\\\n\\\\text{M: } & \\\\left\\\\langle x_{2}x_{3},x_{1}x_{2}x_{3},x_{2}x_{3}x_{4},x_{1}x_{2}x_{3}x_{4},x_{1}x_{7},x_{1}x_{2}x_{7},x_{1}x_{3}x_{7},x_{2}x_{3}x_{7},x_{1}x_{2}x_{3}x_{7},x_{1}x_{4}x_{7},x_{1}x_{2}x_{4}x_{7},x_{1}x_{3}x_{4}x_{7},x_{2}x_{3}x_{4}x_{7},x_{1}x_{2}x_{3}x_{4}x_{7},x_{2}x_{3}x_{8},x_{1}x_{2}x_{3}x_{8},x_{2}x_{3}x_{4}x_{8},x_{1}x_{2}x_{3}x_{4}x_{8},x_{1}x_{7}x_{8},x_{1}x_{2}x_{7}x_{8},x_{1}x_{3}x_{7}x_{8},x_{2}x_{3}x_{7}x_{8},x_{1}x_{2}x_{3}x_{7}x_{8},x_{1}x_{4}x_{7}x_{8},x_{1}x_{2}x_{4}x_{7}x_{8},x_{1}x_{3}x_{4}x_{7}x_{8},x_{2}x_{3}x_{4}x_{7}x_{8},x_{1}x_{2}x_{3}x_{4}x_{7}x_{8} \\\\right\\\\rangle \\\\\\\\\\n\\\\text{gens: } & \\\\left\\\\langle x_{2}x_{3},x_{1}x_{7} \\\\right\\\\rangle \\\\\\\\\\n\\\\text{over: } & \\\\text{ring }R \\\\\\\\\\n\\\\text{dgs: } & \\\\text{empty list} \\\\\\\\\\n\\\\text{rule: } & \\\\text{empty list} \\\\\\\\\\n\\\\text{target: } & \\\\text{some ring}\\n\\\\end{array} \\\\right.\\\\end{array}\\n\"])"
      ]
     },
     "execution_count": 10,
     "metadata": {},
     "output_type": "execute_result"
    }
   ],
   "source": [
    "execute(\"l[666]\")"
   ]
  },
  {
   "cell_type": "code",
   "execution_count": null,
   "metadata": {},
   "outputs": [],
   "source": []
  }
 ],
 "metadata": {
  "kernelspec": {
   "display_name": "Julia 1.0.5",
   "language": "julia",
   "name": "julia-1.0"
  },
  "language_info": {
   "file_extension": ".jl",
   "mimetype": "application/julia",
   "name": "julia",
   "version": "1.0.5"
  }
 },
 "nbformat": 4,
 "nbformat_minor": 2
}
