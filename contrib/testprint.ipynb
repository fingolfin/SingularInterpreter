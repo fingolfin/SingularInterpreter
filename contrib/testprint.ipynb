{
 "cells": [
  {
   "cell_type": "code",
   "execution_count": 1,
   "metadata": {},
   "outputs": [
    {
     "name": "stderr",
     "output_type": "stream",
     "text": [
      "┌ Info: Recompiling stale cache file /home/schultz/.julia/compiled/v1.0/SingularInterpreter/gAZn6.ji for SingularInterpreter [ecded57e-de16-11e9-206c-07fbf94fd0a1]\n",
      "└ @ Base loading.jl:1190\n",
      "┌ Warning: REPL initialization for Singular mode failed\n",
      "└ @ SingularInterpreter /home/schultz/git/SingularInterpreter/src/SingularInterpreter.jl:48\n"
     ]
    }
   ],
   "source": [
    "using SingularInterpreter"
   ]
  },
  {
   "cell_type": "code",
   "execution_count": 2,
   "metadata": {},
   "outputs": [
    {
     "name": "stdout",
     "output_type": "stream",
     "text": [
      "3\n"
     ]
    },
    {
     "data": {
      "text/latex": [
       "\\begin{array}{l}3\\end{array}"
      ],
      "text/plain": [
       "SingularInterpreter.PrintReaper(true, [\"3\"])"
      ]
     },
     "execution_count": 2,
     "metadata": {},
     "output_type": "execute_result"
    }
   ],
   "source": [
    "execute(\"1+2\")"
   ]
  },
  {
   "cell_type": "code",
   "execution_count": 3,
   "metadata": {},
   "outputs": [
    {
     "name": "stdout",
     "output_type": "stream",
     "text": [
      "polynomial ring, over a field, global ordering\n",
      "// coefficients: ZZ/32003\n",
      "// number of vars : 3\n",
      "//        block   1 : ordering dp\n",
      "//                  : names    x y z\n",
      "//        block   2 : ordering C\n"
     ]
    },
    {
     "data": {
      "text/latex": [
       "\\begin{array}{l}???\\end{array}"
      ],
      "text/plain": [
       "SingularInterpreter.PrintReaper(true, [\"???\"])"
      ]
     },
     "execution_count": 3,
     "metadata": {},
     "output_type": "execute_result"
    }
   ],
   "source": [
    "execute(\"ring r; r\")"
   ]
  },
  {
   "cell_type": "code",
   "execution_count": 4,
   "metadata": {},
   "outputs": [
    {
     "name": "stdout",
     "output_type": "stream",
     "text": [
      "x^2+2*x*y+y^2+2*x*z+2*y*z+z^2+2*x+2*y+2*z+1\n"
     ]
    },
    {
     "data": {
      "text/latex": [
       "\\begin{array}{l}x^2+2 x y+y^2+2 x z+2 y z+z^2+2 x+2 y+2 z+1\\end{array}"
      ],
      "text/plain": [
       "SingularInterpreter.PrintReaper(true, [\"x^2+2 x y+y^2+2 x z+2 y z+z^2+2 x+2 y+2 z+1\"])"
      ]
     },
     "execution_count": 4,
     "metadata": {},
     "output_type": "execute_result"
    }
   ],
   "source": [
    "execute(\"(1+x+y+z)^2\")"
   ]
  },
  {
   "cell_type": "code",
   "execution_count": 5,
   "metadata": {},
   "outputs": [
    {
     "name": "stdout",
     "output_type": "stream",
     "text": [
      "version -> version standard.lib 4.1.2.0 Feb_2019 \n",
      "category -> Miscellaneous\n",
      "info -> \n",
      "LIBRARY: standard.lib   Procedures which are always loaded at Start-up\n",
      "\n",
      "PROCEDURES:\n",
      " stdfglm(ideal[,ord])   standard basis of ideal via fglm [and ordering ord]\n",
      " stdhilb(ideal[,h])     Hilbert driven Groebner basis of ideal\n",
      " groebner(ideal,...)    standard basis using a heuristically chosen method\n",
      " res(ideal/module,[i])  free resolution of ideal or module\n",
      " sprintf(fmt,...)       returns fomatted string\n",
      " fprintf(link,fmt,..)   writes formatted string to link\n",
      " printf(fmt,...)        displays formatted string\n",
      " weightKB(stc,dd,vl)    degree dd part of a kbase w.r.t. some weigths\n",
      " qslimgb(i)             computes a standard basis with slimgb in a qring\n",
      " par2varRing([i])       create a ring making pars to vars, together with i\n",
      " datetime()             return date and time as a string\n",
      " max(i_1,...,i_k)       maximum of i_1, ..., i_k\n",
      " min(i_1,...,i_k)       minimum of i_1, ..., i_k\n",
      " create_ring(l1,l2,l3,l4) return ring(list(l1, l2, l3, l4))\n",
      "\n",
      "\n"
     ]
    }
   ],
   "source": [
    "execute(\"\"\"LIB \"standard.lib\";\"\"\")"
   ]
  },
  {
   "cell_type": "code",
   "execution_count": 6,
   "metadata": {},
   "outputs": [
    {
     "name": "stderr",
     "output_type": "stream",
     "text": [
      "┌ Warning: redeclaration of ring r\n",
      "└ @ SingularInterpreter /home/schultz/git/SingularInterpreter/src/runtime_cmds.jl:405\n"
     ]
    },
    {
     "name": "stdout",
     "output_type": "stream",
     "text": [
      "ideal[1]: x(1)^3*x(2)^2\n",
      "     [2]: x(1)^3*x(3)\n",
      "     [3]: x(2)^2*x(3)\n",
      "     [4]: x(3)^2\n"
     ]
    },
    {
     "data": {
      "text/latex": [
       "\\begin{array}{l}\\left\\langle x_{1}^3 x_{2}^2,x_{1}^3 x_{3},x_{2}^2 x_{3},x_{3}^2 \\right\\rangle\\end{array}"
      ],
      "text/plain": [
       "SingularInterpreter.PrintReaper(true, [\"\\\\left\\\\langle x_{1}^3 x_{2}^2,x_{1}^3 x_{3},x_{2}^2 x_{3},x_{3}^2 \\\\right\\\\rangle\"])"
      ]
     },
     "execution_count": 6,
     "metadata": {},
     "output_type": "execute_result"
    }
   ],
   "source": [
    "execute(\"\"\" ring r = 0, x(1..3), dp;\n",
    "            ideal i = x(1)^6, x(2)^4, x(1)*x(2)*x(3);\n",
    "            weightKB(i, 12, intvec(2, 3, 6))\"\"\")"
   ]
  },
  {
   "cell_type": "code",
   "execution_count": null,
   "metadata": {},
   "outputs": [],
   "source": []
  }
 ],
 "metadata": {
  "kernelspec": {
   "display_name": "Julia 1.0.5",
   "language": "julia",
   "name": "julia-1.0"
  },
  "language_info": {
   "file_extension": ".jl",
   "mimetype": "application/julia",
   "name": "julia",
   "version": "1.0.5"
  }
 },
 "nbformat": 4,
 "nbformat_minor": 2
}
